{
 "cells": [
  {
   "cell_type": "markdown",
   "id": "76fedc11-ddb7-4bc2-bf2e-69f0fb4b13af",
   "metadata": {
    "editable": true,
    "slideshow": {
     "slide_type": ""
    },
    "tags": []
   },
   "source": [
    "# Optimal Spanish Keyboard"
   ]
  },
  {
   "cell_type": "markdown",
   "id": "01f23880-765c-40d8-bdbf-1bca72948fc6",
   "metadata": {},
   "source": [
    "This project aimed to design optimized keyboard layouts for Spanish speakers by analyzing a billion-word Spanish text corpus. Using TF-IDF and Genetic Algorithms, data was cleaned and processed to calculate term frequencies and character importance, optimizing key placement to minimize typing effort. The Genetic Algorithm iteratively refined layouts for maximum efficiency. The new layouts demonstrated significant improvements in typing speed and reduced finger movement compared to the traditional QWERTY layout, enhancing comfort and efficiency for Spanish typists. The complete report detailing the methodologies and findings is provided below."
   ]
  },
  {
   "cell_type": "markdown",
   "id": "c25de499-8394-41be-b373-ec8e52bcba90",
   "metadata": {},
   "source": [
    "## Final Report"
   ]
  },
  {
   "cell_type": "code",
   "execution_count": 19,
   "id": "dd6e15f0-367e-4414-8ffa-92b006774f31",
   "metadata": {
    "tags": [
     "remove-input"
    ]
   },
   "outputs": [
    {
     "data": {
      "text/html": [
       "\n",
       "        <iframe\n",
       "            width=\"790\"\n",
       "            height=\"1000\"\n",
       "            src=\"../_static/Optimal Spanish Keyboard.pdf\"\n",
       "            frameborder=\"0\"\n",
       "            allowfullscreen\n",
       "            \n",
       "        ></iframe>\n",
       "        "
      ],
      "text/plain": [
       "<IPython.lib.display.IFrame at 0x105127090>"
      ]
     },
     "execution_count": 19,
     "metadata": {},
     "output_type": "execute_result"
    }
   ],
   "source": [
    "from IPython.display import IFrame\n",
    "IFrame(\"../_static/Optimal Spanish Keyboard.pdf\", width=790, height=1000)"
   ]
  },
  {
   "cell_type": "code",
   "execution_count": null,
   "id": "ad222f77-1d5e-4206-9b0a-26d00ef09a00",
   "metadata": {},
   "outputs": [],
   "source": []
  }
 ],
 "metadata": {
  "kernelspec": {
   "display_name": "Python 3 (ipykernel)",
   "language": "python",
   "name": "python3"
  },
  "language_info": {
   "codemirror_mode": {
    "name": "ipython",
    "version": 3
   },
   "file_extension": ".py",
   "mimetype": "text/x-python",
   "name": "python",
   "nbconvert_exporter": "python",
   "pygments_lexer": "ipython3",
   "version": "3.11.5"
  }
 },
 "nbformat": 4,
 "nbformat_minor": 5
}
