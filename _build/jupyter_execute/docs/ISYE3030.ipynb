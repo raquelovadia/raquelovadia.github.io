{
 "cells": [
  {
   "cell_type": "markdown",
   "id": "3685b5a0-6b66-4bca-a4e9-3e960c9e2ee8",
   "metadata": {},
   "source": [
    "# Exploring the Relationship Between Gender and Wages"
   ]
  },
  {
   "cell_type": "markdown",
   "id": "562e8f30-42dc-4b25-a2a9-c53f0562b15e",
   "metadata": {},
   "source": [
    "This project examined the relationship between average salary and various factors, including age, gender, years of experience, and education level in the United States, using data from a Kaggle dataset. The analysis involved data cleaning, descriptive statistics, and creating visualizations with Python and Pandas. Hypothesis testing was performed to assess salary differences between genders, and regression analysis was used to explore the correlation between experience and earnings. The study highlights skills in data analysis, statistical inference, and programming. The full report with detailed methodologies and findings is provided below."
   ]
  },
  {
   "cell_type": "markdown",
   "id": "72bbe83c-4165-44c5-a77d-221c650794fa",
   "metadata": {},
   "source": [
    "## Final Report"
   ]
  },
  {
   "cell_type": "code",
   "execution_count": 1,
   "id": "1556e4f1-84e3-4057-b5f1-62d34b88eb41",
   "metadata": {
    "tags": [
     "remove-input"
    ]
   },
   "outputs": [
    {
     "data": {
      "text/html": [
       "\n",
       "        <iframe\n",
       "            width=\"790\"\n",
       "            height=\"1000\"\n",
       "            src=\"../_static/Exploring the Relationship Between Gender and Wages.pdf\"\n",
       "            frameborder=\"0\"\n",
       "            allowfullscreen\n",
       "            \n",
       "        ></iframe>\n",
       "        "
      ],
      "text/plain": [
       "<IPython.lib.display.IFrame at 0x107d4b8d0>"
      ]
     },
     "execution_count": 1,
     "metadata": {},
     "output_type": "execute_result"
    }
   ],
   "source": [
    "from IPython.display import IFrame\n",
    "IFrame(\"../_static/Exploring the Relationship Between Gender and Wages.pdf\", width=790, height=1000)"
   ]
  },
  {
   "cell_type": "code",
   "execution_count": null,
   "id": "8b79b5ed-2e8e-4e58-8e41-c3fee7f935a0",
   "metadata": {},
   "outputs": [],
   "source": []
  }
 ],
 "metadata": {
  "kernelspec": {
   "display_name": "Python 3 (ipykernel)",
   "language": "python",
   "name": "python3"
  },
  "language_info": {
   "codemirror_mode": {
    "name": "ipython",
    "version": 3
   },
   "file_extension": ".py",
   "mimetype": "text/x-python",
   "name": "python",
   "nbconvert_exporter": "python",
   "pygments_lexer": "ipython3",
   "version": "3.11.5"
  }
 },
 "nbformat": 4,
 "nbformat_minor": 5
}