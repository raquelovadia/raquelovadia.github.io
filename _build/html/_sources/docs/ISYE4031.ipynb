{
 "cells": [
  {
   "cell_type": "markdown",
   "id": "dd13f269-f13e-4fd4-99ff-0f460ab9a6d2",
   "metadata": {},
   "source": [
    "# EDA of Yahoo Stock Price Prediction"
   ]
  },
  {
   "cell_type": "markdown",
   "id": "0053aea0-ff72-487d-94bf-07a8fbfdb9d6",
   "metadata": {},
   "source": [
    "This project focused on developing predictive models for stock prices using data from the Yahoo Finance API. Three forecasting methods were employed: Multiple Linear Regression, Time Series Regression, and Nonseasonal Box-Jenkins Models. The analysis involved addressing multicollinearity, assessing autocorrelation, and applying advanced statistical techniques like Lasso Regression to enhance model accuracy. Each method provided unique insights into stock price trends, revealing their potential in financial forecasting. Future work will integrate these methods and explore external factors to improve predictive capabilities. The complete report detailing methodologies and findings is available below."
   ]
  },
  {
   "cell_type": "markdown",
   "id": "d6dc231b-a9ed-4dc2-8d72-ec08e82872cc",
   "metadata": {},
   "source": [
    "## Final Report"
   ]
  },
  {
   "cell_type": "code",
   "execution_count": 13,
   "id": "6eaf2aae-cc54-42d8-9c5e-08bf8e882157",
   "metadata": {
    "tags": [
     "remove-input"
    ]
   },
   "outputs": [
    {
     "data": {
      "text/html": [
       "\n",
       "        <iframe\n",
       "            width=\"790\"\n",
       "            height=\"1000\"\n",
       "            src=\"../_static/EDA of Yahoo Stock Price Prediction.pdf\"\n",
       "            frameborder=\"0\"\n",
       "            allowfullscreen\n",
       "            \n",
       "        ></iframe>\n",
       "        "
      ],
      "text/plain": [
       "<IPython.lib.display.IFrame at 0x109a174d0>"
      ]
     },
     "execution_count": 13,
     "metadata": {},
     "output_type": "execute_result"
    }
   ],
   "source": [
    "from IPython.display import IFrame\n",
    "IFrame(\"../_static/EDA of Yahoo Stock Price Prediction.pdf\", width=790, height=1000)"
   ]
  },
  {
   "cell_type": "code",
   "execution_count": null,
   "id": "80713a2b-6564-4a31-8362-984c6df088c6",
   "metadata": {},
   "outputs": [],
   "source": []
  }
 ],
 "metadata": {
  "kernelspec": {
   "display_name": "Python 3 (ipykernel)",
   "language": "python",
   "name": "python3"
  },
  "language_info": {
   "codemirror_mode": {
    "name": "ipython",
    "version": 3
   },
   "file_extension": ".py",
   "mimetype": "text/x-python",
   "name": "python",
   "nbconvert_exporter": "python",
   "pygments_lexer": "ipython3",
   "version": "3.11.5"
  }
 },
 "nbformat": 4,
 "nbformat_minor": 5
}
